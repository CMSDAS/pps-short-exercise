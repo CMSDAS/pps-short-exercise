{
 "cells": [
  {
   "cell_type": "markdown",
   "metadata": {},
   "source": [
    "# Optical functions & Proton transport"
   ]
  },
  {
   "cell_type": "markdown",
   "metadata": {},
   "source": [
    "### Auxiliary class to handle optical functions"
   ]
  },
  {
   "cell_type": "code",
   "execution_count": 1,
   "metadata": {},
   "outputs": [
    {
     "name": "stdout",
     "output_type": "stream",
     "text": [
      "Welcome to JupyROOT 6.14/09\n"
     ]
    }
   ],
   "source": [
    "from SimpleLHCPropagator import *"
   ]
  },
  {
   "cell_type": "code",
   "execution_count": 2,
   "metadata": {
    "scrolled": true
   },
   "outputs": [
    {
     "name": "stdout",
     "output_type": "stream",
     "text": [
      "Help on class SimpleLHCPropagator in module SimpleLHCPropagator:\n",
      "\n",
      "class SimpleLHCPropagator\n",
      " |  Methods defined here:\n",
      " |  \n",
      " |  __init__(self, files, verbose=False)\n",
      " |  \n",
      " |  draw_function(self, xangle, rpid, tag)\n",
      " |  \n",
      " |  draw_function_vs_rpid(self, xangle, tag)\n",
      " |  \n",
      " |  draw_function_vs_xangle(self, rpid, tag)\n",
      " |  \n",
      " |  eval(self, rpid, xangle, tag, x)\n",
      " |  \n",
      " |  get_function(self, xangle, rpid, tag)\n",
      " |  \n",
      " |  of_tags(self)\n",
      " |  \n",
      " |  rp_index(self, key)\n",
      " |  \n",
      " |  set_verbose(self, flag)\n",
      " |  \n",
      " |  transport(self, rpid, xangle, kinematics)\n",
      "\n"
     ]
    }
   ],
   "source": [
    "help(SimpleLHCPropagator)"
   ]
  },
  {
   "cell_type": "markdown",
   "metadata": {},
   "source": [
    "### For a given optics configuration, load optical functions for a set of principal crossing angles\n",
    "\n",
    "***Dont forget*** to run `voms-proxy-init --voms cms` from the terminal first.\n",
    "\n",
    "The optical functions are stored in [cms-data/CalibPPS-ESProducers](https://github.com/cms-data/CalibPPS-ESProducers/tree/master/optical_functions) and might be updated during the run."
   ]
  },
  {
   "cell_type": "code",
   "execution_count": 3,
   "metadata": {},
   "outputs": [
    {
     "name": "stdout",
     "output_type": "stream",
     "text": [
      "Accessing optical functions for crossing angle 120\n",
      "Accessing XRPH_D6L5_B2/g_x_D_vs_xi\n",
      "Accessing XRPH_D6L5_B2/g_v_x_vs_xi\n",
      "Accessing XRPH_D6L5_B2/g_L_x_vs_xi\n",
      "Accessing XRPH_D6L5_B2/g_y_D_vs_xi\n",
      "Accessing XRPH_D6L5_B2/g_v_y_vs_xi\n",
      "Accessing XRPH_D6L5_B2/g_L_y_vs_xi\n",
      "Accessing XRPH_D6R5_B1/g_x_D_vs_xi\n",
      "Accessing XRPH_D6R5_B1/g_v_x_vs_xi\n",
      "Accessing XRPH_D6R5_B1/g_L_x_vs_xi\n",
      "Accessing XRPH_D6R5_B1/g_y_D_vs_xi\n",
      "Accessing XRPH_D6R5_B1/g_v_y_vs_xi\n",
      "Accessing XRPH_D6R5_B1/g_L_y_vs_xi\n",
      "Accessing XRPH_E6L5_B2/g_x_D_vs_xi\n",
      "Accessing XRPH_E6L5_B2/g_v_x_vs_xi\n",
      "Accessing XRPH_E6L5_B2/g_L_x_vs_xi\n",
      "Accessing XRPH_E6L5_B2/g_y_D_vs_xi\n",
      "Accessing XRPH_E6L5_B2/g_v_y_vs_xi\n",
      "Accessing XRPH_E6L5_B2/g_L_y_vs_xi\n",
      "Accessing XRPH_E6R5_B1/g_x_D_vs_xi\n",
      "Accessing XRPH_E6R5_B1/g_v_x_vs_xi\n",
      "Accessing XRPH_E6R5_B1/g_L_x_vs_xi\n",
      "Accessing XRPH_E6R5_B1/g_y_D_vs_xi\n",
      "Accessing XRPH_E6R5_B1/g_v_y_vs_xi\n",
      "Accessing XRPH_E6R5_B1/g_L_y_vs_xi\n",
      "Accessing XRPH_B6L5_B2/g_x_D_vs_xi\n",
      "Accessing XRPH_B6L5_B2/g_v_x_vs_xi\n",
      "Accessing XRPH_B6L5_B2/g_L_x_vs_xi\n",
      "Accessing XRPH_B6L5_B2/g_y_D_vs_xi\n",
      "Accessing XRPH_B6L5_B2/g_v_y_vs_xi\n",
      "Accessing XRPH_B6L5_B2/g_L_y_vs_xi\n",
      "Accessing XRPH_B6R5_B1/g_x_D_vs_xi\n",
      "Accessing XRPH_B6R5_B1/g_v_x_vs_xi\n",
      "Accessing XRPH_B6R5_B1/g_L_x_vs_xi\n",
      "Accessing XRPH_B6R5_B1/g_y_D_vs_xi\n",
      "Accessing XRPH_B6R5_B1/g_v_y_vs_xi\n",
      "Accessing XRPH_B6R5_B1/g_L_y_vs_xi\n",
      "Accessing optical functions for crossing angle 130\n",
      "Accessing XRPH_D6L5_B2/g_x_D_vs_xi\n",
      "Accessing XRPH_D6L5_B2/g_v_x_vs_xi\n",
      "Accessing XRPH_D6L5_B2/g_L_x_vs_xi\n",
      "Accessing XRPH_D6L5_B2/g_y_D_vs_xi\n",
      "Accessing XRPH_D6L5_B2/g_v_y_vs_xi\n",
      "Accessing XRPH_D6L5_B2/g_L_y_vs_xi\n",
      "Accessing XRPH_D6R5_B1/g_x_D_vs_xi\n",
      "Accessing XRPH_D6R5_B1/g_v_x_vs_xi\n",
      "Accessing XRPH_D6R5_B1/g_L_x_vs_xi\n",
      "Accessing XRPH_D6R5_B1/g_y_D_vs_xi\n",
      "Accessing XRPH_D6R5_B1/g_v_y_vs_xi\n",
      "Accessing XRPH_D6R5_B1/g_L_y_vs_xi\n",
      "Accessing XRPH_E6L5_B2/g_x_D_vs_xi\n",
      "Accessing XRPH_E6L5_B2/g_v_x_vs_xi\n",
      "Accessing XRPH_E6L5_B2/g_L_x_vs_xi\n",
      "Accessing XRPH_E6L5_B2/g_y_D_vs_xi\n",
      "Accessing XRPH_E6L5_B2/g_v_y_vs_xi\n",
      "Accessing XRPH_E6L5_B2/g_L_y_vs_xi\n",
      "Accessing XRPH_E6R5_B1/g_x_D_vs_xi\n",
      "Accessing XRPH_E6R5_B1/g_v_x_vs_xi\n",
      "Accessing XRPH_E6R5_B1/g_L_x_vs_xi\n",
      "Accessing XRPH_E6R5_B1/g_y_D_vs_xi\n",
      "Accessing XRPH_E6R5_B1/g_v_y_vs_xi\n",
      "Accessing XRPH_E6R5_B1/g_L_y_vs_xi\n",
      "Accessing XRPH_B6L5_B2/g_x_D_vs_xi\n",
      "Accessing XRPH_B6L5_B2/g_v_x_vs_xi\n",
      "Accessing XRPH_B6L5_B2/g_L_x_vs_xi\n",
      "Accessing XRPH_B6L5_B2/g_y_D_vs_xi\n",
      "Accessing XRPH_B6L5_B2/g_v_y_vs_xi\n",
      "Accessing XRPH_B6L5_B2/g_L_y_vs_xi\n",
      "Accessing XRPH_B6R5_B1/g_x_D_vs_xi\n",
      "Accessing XRPH_B6R5_B1/g_v_x_vs_xi\n",
      "Accessing XRPH_B6R5_B1/g_L_x_vs_xi\n",
      "Accessing XRPH_B6R5_B1/g_y_D_vs_xi\n",
      "Accessing XRPH_B6R5_B1/g_v_y_vs_xi\n",
      "Accessing XRPH_B6R5_B1/g_L_y_vs_xi\n",
      "Accessing optical functions for crossing angle 140\n",
      "Accessing XRPH_D6L5_B2/g_x_D_vs_xi\n",
      "Accessing XRPH_D6L5_B2/g_v_x_vs_xi\n",
      "Accessing XRPH_D6L5_B2/g_L_x_vs_xi\n",
      "Accessing XRPH_D6L5_B2/g_y_D_vs_xi\n",
      "Accessing XRPH_D6L5_B2/g_v_y_vs_xi\n",
      "Accessing XRPH_D6L5_B2/g_L_y_vs_xi\n",
      "Accessing XRPH_D6R5_B1/g_x_D_vs_xi\n",
      "Accessing XRPH_D6R5_B1/g_v_x_vs_xi\n",
      "Accessing XRPH_D6R5_B1/g_L_x_vs_xi\n",
      "Accessing XRPH_D6R5_B1/g_y_D_vs_xi\n",
      "Accessing XRPH_D6R5_B1/g_v_y_vs_xi\n",
      "Accessing XRPH_D6R5_B1/g_L_y_vs_xi\n",
      "Accessing XRPH_E6L5_B2/g_x_D_vs_xi\n",
      "Accessing XRPH_E6L5_B2/g_v_x_vs_xi\n",
      "Accessing XRPH_E6L5_B2/g_L_x_vs_xi\n",
      "Accessing XRPH_E6L5_B2/g_y_D_vs_xi\n",
      "Accessing XRPH_E6L5_B2/g_v_y_vs_xi\n",
      "Accessing XRPH_E6L5_B2/g_L_y_vs_xi\n",
      "Accessing XRPH_E6R5_B1/g_x_D_vs_xi\n",
      "Accessing XRPH_E6R5_B1/g_v_x_vs_xi\n",
      "Accessing XRPH_E6R5_B1/g_L_x_vs_xi\n",
      "Accessing XRPH_E6R5_B1/g_y_D_vs_xi\n",
      "Accessing XRPH_E6R5_B1/g_v_y_vs_xi\n",
      "Accessing XRPH_E6R5_B1/g_L_y_vs_xi\n",
      "Accessing XRPH_B6L5_B2/g_x_D_vs_xi\n",
      "Accessing XRPH_B6L5_B2/g_v_x_vs_xi\n",
      "Accessing XRPH_B6L5_B2/g_L_x_vs_xi\n",
      "Accessing XRPH_B6L5_B2/g_y_D_vs_xi\n",
      "Accessing XRPH_B6L5_B2/g_v_y_vs_xi\n",
      "Accessing XRPH_B6L5_B2/g_L_y_vs_xi\n",
      "Accessing XRPH_B6R5_B1/g_x_D_vs_xi\n",
      "Accessing XRPH_B6R5_B1/g_v_x_vs_xi\n",
      "Accessing XRPH_B6R5_B1/g_L_x_vs_xi\n",
      "Accessing XRPH_B6R5_B1/g_y_D_vs_xi\n",
      "Accessing XRPH_B6R5_B1/g_v_y_vs_xi\n",
      "Accessing XRPH_B6R5_B1/g_L_y_vs_xi\n",
      "{120: {3: {'x_D': <ROOT.TSpline3 object (\"Spline3\") at 0x738de20>, 'L_x': <ROOT.TSpline3 object (\"Spline3\") at 0x73aaf70>, 'L_y': <ROOT.TSpline3 object (\"Spline3\") at 0x739cb40>, 'v_x': <ROOT.TSpline3 object (\"Spline3\") at 0x73a3430>, 'v_y': <ROOT.TSpline3 object (\"Spline3\") at 0x73a0f30>, 'y_D': <ROOT.TSpline3 object (\"Spline3\") at 0x739dd50>, 'xi_vs_x': <ROOT.TSpline3 object (\"Spline3\") at 0x738d250>}, 103: {'x_D': <ROOT.TSpline3 object (\"Spline3\") at 0x73995e0>, 'L_x': <ROOT.TSpline3 object (\"Spline3\") at 0x73ccf40>, 'L_y': <ROOT.TSpline3 object (\"Spline3\") at 0x739db30>, 'v_x': <ROOT.TSpline3 object (\"Spline3\") at 0x739f910>, 'v_y': <ROOT.TSpline3 object (\"Spline3\") at 0x739cce0>, 'y_D': <ROOT.TSpline3 object (\"Spline3\") at 0x73fa940>, 'xi_vs_x': <ROOT.TSpline3 object (\"Spline3\") at 0x73a9260>}, 16: {'x_D': <ROOT.TSpline3 object (\"Spline3\") at 0x739da60>, 'L_x': <ROOT.TSpline3 object (\"Spline3\") at 0x73f45b0>, 'L_y': <ROOT.TSpline3 object (\"Spline3\") at 0x737f2f0>, 'v_x': <ROOT.TSpline3 object (\"Spline3\") at 0x740b5d0>, 'v_y': <ROOT.TSpline3 object (\"Spline3\") at 0x739e570>, 'y_D': <ROOT.TSpline3 object (\"Spline3\") at 0x73a23b0>, 'xi_vs_x': <ROOT.TSpline3 object (\"Spline3\") at 0x7395ef0>}, 116: {'x_D': <ROOT.TSpline3 object (\"Spline3\") at 0x73f3880>, 'L_x': <ROOT.TSpline3 object (\"Spline3\") at 0x73ab5e0>, 'L_y': <ROOT.TSpline3 object (\"Spline3\") at 0x74428a0>, 'v_x': <ROOT.TSpline3 object (\"Spline3\") at 0x73a4e20>, 'v_y': <ROOT.TSpline3 object (\"Spline3\") at 0x73fab60>, 'y_D': <ROOT.TSpline3 object (\"Spline3\") at 0x7419e70>, 'xi_vs_x': <ROOT.TSpline3 object (\"Spline3\") at 0x737fc50>}, 23: {'x_D': <ROOT.TSpline3 object (\"Spline3\") at 0x742c580>, 'L_x': <ROOT.TSpline3 object (\"Spline3\") at 0x7442ba0>, 'L_y': <ROOT.TSpline3 object (\"Spline3\") at 0x73d2100>, 'v_x': <ROOT.TSpline3 object (\"Spline3\") at 0x7441710>, 'v_y': <ROOT.TSpline3 object (\"Spline3\") at 0x742bf90>, 'y_D': <ROOT.TSpline3 object (\"Spline3\") at 0x7442710>, 'xi_vs_x': <ROOT.TSpline3 object (\"Spline3\") at 0x73fa210>}, 123: {'x_D': <ROOT.TSpline3 object (\"Spline3\") at 0x7440a00>, 'L_x': <ROOT.TSpline3 object (\"Spline3\") at 0x7467b70>, 'L_y': <ROOT.TSpline3 object (\"Spline3\") at 0x7456b60>, 'v_x': <ROOT.TSpline3 object (\"Spline3\") at 0x7469040>, 'v_y': <ROOT.TSpline3 object (\"Spline3\") at 0x73d1440>, 'y_D': <ROOT.TSpline3 object (\"Spline3\") at 0x73b0380>, 'xi_vs_x': <ROOT.TSpline3 object (\"Spline3\") at 0x73b1e30>}}, 130: {3: {'x_D': <ROOT.TSpline3 object (\"Spline3\") at 0x74c0840>, 'L_x': <ROOT.TSpline3 object (\"Spline3\") at 0x74b0e60>, 'L_y': <ROOT.TSpline3 object (\"Spline3\") at 0x74a8fa0>, 'v_x': <ROOT.TSpline3 object (\"Spline3\") at 0x749dd30>, 'v_y': <ROOT.TSpline3 object (\"Spline3\") at 0x749f780>, 'y_D': <ROOT.TSpline3 object (\"Spline3\") at 0x74c5650>, 'xi_vs_x': <ROOT.TSpline3 object (\"Spline3\") at 0x749e770>}, 103: {'x_D': <ROOT.TSpline3 object (\"Spline3\") at 0x74c2830>, 'L_x': <ROOT.TSpline3 object (\"Spline3\") at 0x74c25b0>, 'L_y': <ROOT.TSpline3 object (\"Spline3\") at 0x74be920>, 'v_x': <ROOT.TSpline3 object (\"Spline3\") at 0x74bea80>, 'v_y': <ROOT.TSpline3 object (\"Spline3\") at 0x74d15a0>, 'y_D': <ROOT.TSpline3 object (\"Spline3\") at 0x74dd820>, 'xi_vs_x': <ROOT.TSpline3 object (\"Spline3\") at 0x74b0f30>}, 16: {'x_D': <ROOT.TSpline3 object (\"Spline3\") at 0x74cf9d0>, 'L_x': <ROOT.TSpline3 object (\"Spline3\") at 0x74c6120>, 'L_y': <ROOT.TSpline3 object (\"Spline3\") at 0x74f8530>, 'v_x': <ROOT.TSpline3 object (\"Spline3\") at 0x7504570>, 'v_y': <ROOT.TSpline3 object (\"Spline3\") at 0x74bed10>, 'y_D': <ROOT.TSpline3 object (\"Spline3\") at 0x74a8d60>, 'xi_vs_x': <ROOT.TSpline3 object (\"Spline3\") at 0x74dd450>}, 116: {'x_D': <ROOT.TSpline3 object (\"Spline3\") at 0x750e950>, 'L_x': <ROOT.TSpline3 object (\"Spline3\") at 0x74c2370>, 'L_y': <ROOT.TSpline3 object (\"Spline3\") at 0x74bf850>, 'v_x': <ROOT.TSpline3 object (\"Spline3\") at 0x750efc0>, 'v_y': <ROOT.TSpline3 object (\"Spline3\") at 0x74c2020>, 'y_D': <ROOT.TSpline3 object (\"Spline3\") at 0x74a8c80>, 'xi_vs_x': <ROOT.TSpline3 object (\"Spline3\") at 0x74bec40>}, 23: {'x_D': <ROOT.TSpline3 object (\"Spline3\") at 0x74d14d0>, 'L_x': <ROOT.TSpline3 object (\"Spline3\") at 0x755bf30>, 'L_y': <ROOT.TSpline3 object (\"Spline3\") at 0x74ddd00>, 'v_x': <ROOT.TSpline3 object (\"Spline3\") at 0x754ef30>, 'v_y': <ROOT.TSpline3 object (\"Spline3\") at 0x74c1760>, 'y_D': <ROOT.TSpline3 object (\"Spline3\") at 0x74ddde0>, 'xi_vs_x': <ROOT.TSpline3 object (\"Spline3\") at 0x74d13f0>}, 123: {'x_D': <ROOT.TSpline3 object (\"Spline3\") at 0x74ddb80>, 'L_x': <ROOT.TSpline3 object (\"Spline3\") at 0x755b500>, 'L_y': <ROOT.TSpline3 object (\"Spline3\") at 0x74e9b60>, 'v_x': <ROOT.TSpline3 object (\"Spline3\") at 0x74f8460>, 'v_y': <ROOT.TSpline3 object (\"Spline3\") at 0x757c170>, 'y_D': <ROOT.TSpline3 object (\"Spline3\") at 0x7581ac0>, 'xi_vs_x': <ROOT.TSpline3 object (\"Spline3\") at 0x7502c60>}}, 140: {3: {'x_D': <ROOT.TSpline3 object (\"Spline3\") at 0x75ae610>, 'L_x': <ROOT.TSpline3 object (\"Spline3\") at 0x7590810>, 'L_y': <ROOT.TSpline3 object (\"Spline3\") at 0x75bcd80>, 'v_x': <ROOT.TSpline3 object (\"Spline3\") at 0x7591180>, 'v_y': <ROOT.TSpline3 object (\"Spline3\") at 0x75b2df0>, 'y_D': <ROOT.TSpline3 object (\"Spline3\") at 0x7590af0>, 'xi_vs_x': <ROOT.TSpline3 object (\"Spline3\") at 0x759e520>}, 103: {'x_D': <ROOT.TSpline3 object (\"Spline3\") at 0x75bef80>, 'L_x': <ROOT.TSpline3 object (\"Spline3\") at 0x75bf6f0>, 'L_y': <ROOT.TSpline3 object (\"Spline3\") at 0x75a89a0>, 'v_x': <ROOT.TSpline3 object (\"Spline3\") at 0x75916b0>, 'v_y': <ROOT.TSpline3 object (\"Spline3\") at 0x75b2f40>, 'y_D': <ROOT.TSpline3 object (\"Spline3\") at 0x759dc70>, 'xi_vs_x': <ROOT.TSpline3 object (\"Spline3\") at 0x75bcca0>}, 16: {'x_D': <ROOT.TSpline3 object (\"Spline3\") at 0x75ebba0>, 'L_x': <ROOT.TSpline3 object (\"Spline3\") at 0x7591780>, 'L_y': <ROOT.TSpline3 object (\"Spline3\") at 0x76127e0>, 'v_x': <ROOT.TSpline3 object (\"Spline3\") at 0x75d6250>, 'v_y': <ROOT.TSpline3 object (\"Spline3\") at 0x75e1850>, 'y_D': <ROOT.TSpline3 object (\"Spline3\") at 0x75ea4d0>, 'xi_vs_x': <ROOT.TSpline3 object (\"Spline3\") at 0x75bf390>}, 116: {'x_D': <ROOT.TSpline3 object (\"Spline3\") at 0x7610e70>, 'L_x': <ROOT.TSpline3 object (\"Spline3\") at 0x7611c90>, 'L_y': <ROOT.TSpline3 object (\"Spline3\") at 0x763c8c0>, 'v_x': <ROOT.TSpline3 object (\"Spline3\") at 0x75be9b0>, 'v_y': <ROOT.TSpline3 object (\"Spline3\") at 0x76190c0>, 'y_D': <ROOT.TSpline3 object (\"Spline3\") at 0x76279e0>, 'xi_vs_x': <ROOT.TSpline3 object (\"Spline3\") at 0x759dfe0>}, 23: {'x_D': <ROOT.TSpline3 object (\"Spline3\") at 0x7607d30>, 'L_x': <ROOT.TSpline3 object (\"Spline3\") at 0x75c94a0>, 'L_y': <ROOT.TSpline3 object (\"Spline3\") at 0x75eb160>, 'v_x': <ROOT.TSpline3 object (\"Spline3\") at 0x7632550>, 'v_y': <ROOT.TSpline3 object (\"Spline3\") at 0x75eb090>, 'y_D': <ROOT.TSpline3 object (\"Spline3\") at 0x7648ca0>, 'xi_vs_x': <ROOT.TSpline3 object (\"Spline3\") at 0x75bf530>}, 123: {'x_D': <ROOT.TSpline3 object (\"Spline3\") at 0x7618f40>, 'L_x': <ROOT.TSpline3 object (\"Spline3\") at 0x75af3e0>, 'L_y': <ROOT.TSpline3 object (\"Spline3\") at 0x766e030>, 'v_x': <ROOT.TSpline3 object (\"Spline3\") at 0x763c0c0>, 'v_y': <ROOT.TSpline3 object (\"Spline3\") at 0x75a8e70>, 'y_D': <ROOT.TSpline3 object (\"Spline3\") at 0x765b9b0>, 'xi_vs_x': <ROOT.TSpline3 object (\"Spline3\") at 0x7605d00>}}}\n",
      "{'root://cmseos.fnal.gov//store/user/cmsdas/2022/short_exercises/pps-protons-tutorial/optical_functions/2017/version4/120urad.root': <ROOT.TNetXNGFile object (\"root://cmseos.fnal.gov//store/user/cmsdas/2022/short_exercises/pps-protons-tutorial/optical_functions/2017/version4/120urad.root\") at 0x71d1940>, 'root://cmseos.fnal.gov//store/user/cmsdas/2022/short_exercises/pps-protons-tutorial/optical_functions/2017/version4/130urad.root': <ROOT.TNetXNGFile object (\"root://cmseos.fnal.gov//store/user/cmsdas/2022/short_exercises/pps-protons-tutorial/optical_functions/2017/version4/130urad.root\") at 0x7483f00>, 'root://cmseos.fnal.gov//store/user/cmsdas/2022/short_exercises/pps-protons-tutorial/optical_functions/2017/version4/140urad.root': <ROOT.TNetXNGFile object (\"root://cmseos.fnal.gov//store/user/cmsdas/2022/short_exercises/pps-protons-tutorial/optical_functions/2017/version4/140urad.root\") at 0x749d7e0>}\n"
     ]
    }
   ],
   "source": [
    "files = {\n",
    "    120: \"root://cmseos.fnal.gov//store/user/cmsdas/2022/short_exercises/pps-protons-tutorial/optical_functions/2017/version4/120urad.root\",\n",
    "    130: \"root://cmseos.fnal.gov//store/user/cmsdas/2022/short_exercises/pps-protons-tutorial/optical_functions/2017/version4/130urad.root\",\n",
    "    140: \"root://cmseos.fnal.gov//store/user/cmsdas/2022/short_exercises/pps-protons-tutorial/optical_functions/2017/version4/140urad.root\"\n",
    "}\n",
    "\n",
    "proton_transport = SimpleLHCPropagator( files )"
   ]
  },
  {
   "cell_type": "markdown",
   "metadata": {},
   "source": [
    "### Optical functions\n",
    "\n",
    "A Proton that energe intact from the intraction, will remain inside the beam, but it will be diflected differently by the LHC optics resolting in displacement from the beam center. Protons can be parameterized using 5 kinematics parameters:\n",
    "   * ($x^*, y^*$) - coordinates of the interation point \n",
    "   * ($\\theta_x^*, \\theta_y^*$) - proton scattering angle\n",
    "   * $\\xi$ - proton momentum loss\n",
    "\n",
    "The transverse position of the proton ($x,y$), that passes detector plane in Roman Pot (RP) determined by the beam optics, and it related to proton kinematic parameters:\n",
    "$$ x = v_x\\cdot x^* + L_x\\cdot \\theta_x^* + D_{x}(\\xi)\\cdot\\xi $$ \n",
    "$$ y = v_y\\cdot y^* + L_y\\cdot \\theta_y^* + D_{y}(\\xi)\\cdot\\xi $$ \n",
    "\n",
    "Where $D(\\xi)$ is the dispersion of the mathine, $L$ is the effective length and $v$ is the magnification parameter.\n",
    "\n",
    "#### Draw an optical function\n",
    "\n",
    "Example of the optical function of dispersion along the x-axis for different proton momentum losses. Note that the inverse of this function can be used to translate the x-coordinate of the proton track to the proton's momentum loss. \n",
    "\n",
    "$$ x = D_{x}(\\xi)\\times\\xi $$ "
   ]
  },
  {
   "cell_type": "code",
   "execution_count": 4,
   "metadata": {
    "scrolled": false
   },
   "outputs": [
    {
     "name": "stdout",
     "output_type": "stream",
     "text": [
      "('Tags:', ('x_D', 'v_x', 'L_x', 'y_D', 'v_y', 'L_y'))\n"
     ]
    },
    {
     "data": {
      "text/plain": [
       "(<ROOT.TSpline3 object (\"Spline3\") at 0x742c580>,\n",
       " <ROOT.TCanvas object (\"canvas_120_23_x_D\") at 0x7812cc0>)"
      ]
     },
     "execution_count": 4,
     "metadata": {},
     "output_type": "execute_result"
    },
    {
     "data": {
      "image/png": "[encoded data removed]",
      "text/plain": [
       "<IPython.core.display.Image object>"
      ]
     },
     "metadata": {},
     "output_type": "display_data"
    }
   ],
   "source": [
    "print ( \"Tags:\", proton_transport.of_tags() )\n",
    "\n",
    "proton_transport.draw_function( 120, 23, \"x_D\" )"
   ]
  },
  {
   "cell_type": "markdown",
   "metadata": {},
   "source": [
    "#### Draw an optical function at different RPs"
   ]
  },
  {
   "cell_type": "code",
   "execution_count": 5,
   "metadata": {},
   "outputs": [
    {
     "data": {
      "text/plain": [
       "([<ROOT.TSpline3 object (\"Spline3\") at 0x738de20>,\n",
       "  <ROOT.TSpline3 object (\"Spline3\") at 0x73995e0>,\n",
       "  <ROOT.TSpline3 object (\"Spline3\") at 0x739da60>,\n",
       "  <ROOT.TSpline3 object (\"Spline3\") at 0x73f3880>,\n",
       "  <ROOT.TSpline3 object (\"Spline3\") at 0x742c580>,\n",
       "  <ROOT.TSpline3 object (\"Spline3\") at 0x7440a00>],\n",
       " <ROOT.TCanvas object (\"canvas_120_x_D\") at 0x7a6f350>,\n",
       " <ROOT.TLegend object (\"TPave\") at 0x7b65a10>)"
      ]
     },
     "execution_count": 5,
     "metadata": {},
     "output_type": "execute_result"
    },
    {
     "data": {
      "image/png": "[encoded data removed]",
      "text/plain": [
       "<IPython.core.display.Image object>"
      ]
     },
     "metadata": {},
     "output_type": "display_data"
    }
   ],
   "source": [
    "proton_transport.draw_function_vs_rpid( 120, \"x_D\" )"
   ]
  },
  {
   "cell_type": "markdown",
   "metadata": {},
   "source": [
    "#### Draw an optical function for different crossing angles"
   ]
  },
  {
   "cell_type": "code",
   "execution_count": 6,
   "metadata": {},
   "outputs": [
    {
     "data": {
      "text/plain": [
       "([<ROOT.TSpline3 object (\"Spline3\") at 0x742c580>,\n",
       "  <ROOT.TSpline3 object (\"Spline3\") at 0x74d14d0>,\n",
       "  <ROOT.TSpline3 object (\"Spline3\") at 0x7607d30>],\n",
       " <ROOT.TCanvas object (\"canvas_23_x_D\") at 0x7b7fea0>,\n",
       " <ROOT.TLegend object (\"TPave\") at 0x7bb9370>)"
      ]
     },
     "execution_count": 6,
     "metadata": {},
     "output_type": "execute_result"
    },
    {
     "data": {
      "image/png": "[encoded data removed]",
      "text/plain": [
       "<IPython.core.display.Image object>"
      ]
     },
     "metadata": {},
     "output_type": "display_data"
    }
   ],
   "source": [
    "proton_transport.draw_function_vs_xangle( 23, \"x_D\" )"
   ]
  },
  {
   "cell_type": "markdown",
   "metadata": {},
   "source": [
    "### Find proton position at detectors"
   ]
  },
  {
   "cell_type": "markdown",
   "metadata": {},
   "source": [
    "#### For increasing $\\xi$ values\n",
    "\n",
    "`transport(rpid, xangle, kinematics)`\n",
    "\n",
    "kinematics = (x, $\\theta_x$, y, $\\theta_y$, $\\xi$ )"
   ]
  },
  {
   "cell_type": "code",
   "execution_count": 7,
   "metadata": {},
   "outputs": [
    {
     "name": "stdout",
     "output_type": "stream",
     "text": [
      "('Principal crossing angle values:', [120, 130, 140])\n",
      "Interpolate: False\n",
      "{'x_D': 0.5629041130988695, 'L_x': -1381.9138723270034, 'L_y': -1431.572684928527, 'v_x': -4.302739529591844, 'v_y': -4.644679025957877, 'y_D': 0.0675}\n",
      "Transverse position in detector: (0.562904113099,0.0675)\n",
      "RP position: -21955.0\n",
      "('Principal crossing angle values:', [120, 130, 140])\n",
      "Interpolate: False\n",
      "{'x_D': 1.2246011518636664, 'L_x': -3203.3535023747236, 'L_y': -4257.654101722615, 'v_x': -4.486969370668245, 'v_y': -5.460386494151815, 'y_D': 0.135}\n",
      "Transverse position in detector: (1.22460115186,0.135)\n",
      "RP position: -21955.0\n",
      "('Principal crossing angle values:', [120, 130, 140])\n",
      "Interpolate: False\n",
      "{'x_D': 2.0125188024550473, 'L_x': -5208.019083270811, 'L_y': -7575.361058236707, 'v_x': -4.634983234081951, 'v_y': -6.428726626258103, 'y_D': 0.20249999999999999}\n",
      "Transverse position in detector: (2.01251880246,0.2025)\n",
      "RP position: -21955.0\n",
      "('Principal crossing angle values:', [120, 130, 140])\n",
      "Interpolate: False\n",
      "{'x_D': 2.964627091701712, 'L_x': -7399.672827504737, 'L_y': -11495.705154592446, 'v_x': -4.717638057324908, 'v_y': -7.586171259030987, 'y_D': 0.27}\n",
      "Transverse position in detector: (2.9646270917,0.27)\n",
      "RP position: -21955.0\n"
     ]
    }
   ],
   "source": [
    "proton_transport.set_verbose( True )\n",
    "proton_transport.transport( 23, 120., (0., 0., 0., 0., 0.05) )\n",
    "proton_transport.transport( 23, 120., (0., 0., 0., 0., 0.10) )\n",
    "proton_transport.transport( 23, 120., (0., 0., 0., 0., 0.15) )\n",
    "proton_transport.transport( 23, 120., (0., 0., 0., 0., 0.20) )\n",
    "proton_transport.set_verbose( False )"
   ]
  },
  {
   "cell_type": "markdown",
   "metadata": {},
   "source": [
    "#### For different crossing angles\n",
    "\n",
    "`transport(rpid, xangle, kinematics)`\n",
    "\n",
    "kinematics = (x, $\\theta_x$, y, $\\theta_y$, $\\xi$ )"
   ]
  },
  {
   "cell_type": "code",
   "execution_count": 8,
   "metadata": {},
   "outputs": [
    {
     "name": "stdout",
     "output_type": "stream",
     "text": [
      "('Principal crossing angle values:', [120, 130, 140])\n",
      "Interpolate: False\n",
      "{'x_D': 0.8690549609565529, 'L_x': -3184.031361314049, 'L_y': -4302.310756297797, 'v_x': -4.436980402386566, 'v_y': -5.4920442759520265, 'y_D': 0.202}\n",
      "Transverse position in detector: (0.869054960957,0.202)\n",
      "RP position: 21955.0\n",
      "('Principal crossing angle values:', [120, 130, 140])\n",
      "Interpolate: False\n",
      "{'x_D': 0.7856408195958434, 'L_x': -3184.031361314049, 'L_y': -4302.310756297797, 'v_x': -4.436980402386566, 'v_y': -5.4920442759520265, 'y_D': 0.202}\n",
      "Transverse position in detector: (0.785640819596,0.202)\n",
      "RP position: 21955.0\n",
      "('Principal crossing angle values:', [120, 130, 140])\n",
      "Interpolate: False\n",
      "{'x_D': 0.7345881200156946, 'L_x': -3184.031361314049, 'L_y': -4302.310756297797, 'v_x': -4.436980402386566, 'v_y': -5.4920442759520265, 'y_D': 0.202}\n",
      "Transverse position in detector: (0.734588120016,0.202)\n",
      "RP position: 21955.0\n",
      "('Principal crossing angle values:', [120, 130, 140])\n",
      "Interpolate: True\n",
      "{'x_D': 0.6835354204355458, 'L_x': -3184.031361314049, 'L_y': -4302.310756297797, 'v_x': -4.436980402386566, 'v_y': -5.4920442759520265, 'y_D': 0.202}\n",
      "Transverse position in detector: (0.683535420436,0.202)\n",
      "RP position: 21955.0\n"
     ]
    }
   ],
   "source": [
    "proton_transport.set_verbose( True )\n",
    "proton_transport.transport( 123, 120., (0., 0., 0., 0., 0.10) )\n",
    "proton_transport.transport( 123, 130., (0., 0., 0., 0., 0.10) )\n",
    "proton_transport.transport( 123, 140., (0., 0., 0., 0., 0.10) )\n",
    "proton_transport.transport( 123, 150., (0., 0., 0., 0., 0.10) )\n",
    "proton_transport.set_verbose( False )"
   ]
  },
  {
   "cell_type": "markdown",
   "metadata": {},
   "source": [
    "#### Varying $\\theta_x$ and $\\theta_y$\n",
    "\n",
    "`transport(rpid, xangle, kinematics)`\n",
    "\n",
    "kinematics = (x, $\\theta_x$, y, $\\theta_y$, $\\xi$ )"
   ]
  },
  {
   "cell_type": "code",
   "execution_count": 9,
   "metadata": {},
   "outputs": [
    {
     "name": "stdout",
     "output_type": "stream",
     "text": [
      "('Principal crossing angle values:', [120, 130, 140])\n",
      "Interpolate: False\n",
      "{'x_D': 0.8690549609565529, 'L_x': -3184.031361314049, 'L_y': -4302.310756297797, 'v_x': -4.436980402386566, 'v_y': -5.4920442759520265, 'y_D': 0.202}\n",
      "Transverse position in detector: (0.869054960957,0.202)\n",
      "RP position: 21955.0\n",
      "('Principal crossing angle values:', [120, 130, 140])\n",
      "Interpolate: False\n",
      "{'x_D': 0.8690549609565529, 'L_x': -3184.031361314049, 'L_y': -4302.310756297797, 'v_x': -4.436980402386566, 'v_y': -5.4920442759520265, 'y_D': 0.202}\n",
      "Transverse position in detector: (1.02825652902,0.202)\n",
      "RP position: 21955.0\n",
      "('Principal crossing angle values:', [120, 130, 140])\n",
      "Interpolate: False\n",
      "{'x_D': 0.8690549609565529, 'L_x': -3184.031361314049, 'L_y': -4302.310756297797, 'v_x': -4.436980402386566, 'v_y': -5.4920442759520265, 'y_D': 0.202}\n",
      "Transverse position in detector: (0.709853392891,0.202)\n",
      "RP position: 21955.0\n",
      "('Principal crossing angle values:', [120, 130, 140])\n",
      "Interpolate: False\n",
      "{'x_D': 0.8690549609565529, 'L_x': -3184.031361314049, 'L_y': -4302.310756297797, 'v_x': -4.436980402386566, 'v_y': -5.4920442759520265, 'y_D': 0.202}\n",
      "Transverse position in detector: (0.869054960957,0.417115537815)\n",
      "RP position: 21955.0\n",
      "('Principal crossing angle values:', [120, 130, 140])\n",
      "Interpolate: False\n",
      "{'x_D': 0.8690549609565529, 'L_x': -3184.031361314049, 'L_y': -4302.310756297797, 'v_x': -4.436980402386566, 'v_y': -5.4920442759520265, 'y_D': 0.202}\n",
      "Transverse position in detector: (0.869054960957,-0.0131155378149)\n",
      "RP position: 21955.0\n"
     ]
    }
   ],
   "source": [
    "proton_transport.set_verbose( True )\n",
    "proton_transport.transport( 123, 120., (0., 0., 0., 0., 0.10) )\n",
    "proton_transport.transport( 123, 120., (0., -50e-06, 0., 0., 0.10) )\n",
    "proton_transport.transport( 123, 120., (0.,  50e-06, 0., 0., 0.10) )\n",
    "proton_transport.transport( 123, 120., (0., 0., 0., -50e-06, 0.10) )\n",
    "proton_transport.transport( 123, 120., (0., 0., 0.,  50e-06, 0.10) )\n",
    "proton_transport.set_verbose( False )"
   ]
  },
  {
   "cell_type": "markdown",
   "metadata": {},
   "source": [
    "### Generate a random sample of protons"
   ]
  },
  {
   "cell_type": "code",
   "execution_count": 10,
   "metadata": {},
   "outputs": [],
   "source": [
    "import numpy as np\n",
    "import matplotlib.pyplot as plt\n",
    "from matplotlib.colors import LogNorm\n",
    "\n",
    "np.random.seed(42)\n",
    "\n",
    "nevents = 100000\n",
    "rpid = 123\n",
    "xangle = 120.\n",
    "sigma_theta = 60.e-6\n",
    "\n",
    "xi = 0. + 0.20*np.random.rand( nevents )\n",
    "\n",
    "x = y = 0\n",
    "arr_theta = sigma_theta * np.random.randn( nevents, 2 )\n",
    "\n",
    "data = np.c_[ ( np.ones( nevents ) * x ), arr_theta[:,0],\n",
    "              ( np.ones( nevents ) * y ), arr_theta[:,1], xi ]\n",
    "\n",
    "proton_transport.transport( rpid, xangle, data[0] )\n",
    "\n",
    "f_ = lambda kinematics: proton_transport.transport( rpid, xangle, kinematics )\n",
    "\n",
    "positions_rp = np.apply_along_axis( f_, 1, data )"
   ]
  },
  {
   "cell_type": "code",
   "execution_count": 11,
   "metadata": {},
   "outputs": [
    {
     "data": {
      "text/plain": [
       "Text(0,0.5,'Y (mm)')"
      ]
     },
     "execution_count": 11,
     "metadata": {},
     "output_type": "execute_result"
    },
    {
     "data": {
      "image/png": "[encoded data removed]",
      "text/plain": [
       "<Figure size 720x720 with 1 Axes>"
      ]
     },
     "metadata": {
      "needs_background": "light"
     },
     "output_type": "display_data"
    }
   ],
   "source": [
    "fig = plt.figure( figsize=(10,10) )\n",
    "counts, xedges, yedges, im = plt.hist2d( positions_rp[:,0]*1e1, positions_rp[:,1]*1e1, bins=(100,100), range=( (0.,20.), (-10.,10.) ), norm=LogNorm(), cmap='viridis' )\n",
    "plt.xlabel( \"X (mm)\", fontsize=20 )\n",
    "plt.ylabel( \"Y (mm)\", fontsize=20 )"
   ]
  },
  {
   "cell_type": "markdown",
   "metadata": {},
   "source": [
    "### Apply an arbitrary cut reflecting the detector horizontal position"
   ]
  },
  {
   "cell_type": "code",
   "execution_count": 12,
   "metadata": {},
   "outputs": [
    {
     "data": {
      "text/plain": [
       "Text(0,0.5,'Y (mm)')"
      ]
     },
     "execution_count": 12,
     "metadata": {},
     "output_type": "execute_result"
    },
    {
     "data": {
      "image/png": "[encoded data removed]",
      "text/plain": [
       "<Figure size 720x720 with 1 Axes>"
      ]
     },
     "metadata": {
      "needs_background": "light"
     },
     "output_type": "display_data"
    }
   ],
   "source": [
    "x_min = 0.2\n",
    "msk = positions_rp[:,0] >= x_min\n",
    "positions_rp_xcut = positions_rp[ msk, : ]\n",
    "\n",
    "fig = plt.figure( figsize=(10,10) )\n",
    "counts, xedges, yedges, im = plt.hist2d( positions_rp_xcut[:,0]*1e1, positions_rp_xcut[:,1]*1e1, bins=(100,100), range=( (0.,20.), (-10.,10.) ), norm=LogNorm(), cmap='viridis' )\n",
    "plt.xlabel( \"X (mm)\", fontsize=20 )\n",
    "plt.ylabel( \"Y (mm)\", fontsize=20 )"
   ]
  },
  {
   "cell_type": "markdown",
   "metadata": {},
   "source": [
    "### Access proton data\n",
    "\n",
    "First, we will copy the file from the storage to your local area"
   ]
  },
  {
   "cell_type": "code",
   "execution_count": 15,
   "metadata": {},
   "outputs": [
    {
     "name": "stderr",
     "output_type": "stream",
     "text": [
      "\r",
      "[4.946MB/4.946MB][100%][==================================================][4.946MB/s]  \r",
      "[4.946MB/4.946MB][100%][==================================================][4.946MB/s]  \n"
     ]
    }
   ],
   "source": [
    "%%bash\n",
    "#!/bin/bash\n",
    "xrdcopy root://cmseos.fnal.gov//store/user/cmsdas/2022/short_exercises/pps-protons-tutorial/data/output-UL2017B-PreSel.h5 output-UL2017B-PreSel.h5"
   ]
  },
  {
   "cell_type": "markdown",
   "metadata": {},
   "source": [
    "Prepare pandas dataframe"
   ]
  },
  {
   "cell_type": "code",
   "execution_count": 18,
   "metadata": {
    "scrolled": true
   },
   "outputs": [],
   "source": [
    "import pandas as pd\n",
    "import h5py\n",
    "\n",
    "fileName = \"output-UL2017B-PreSel.h5\"\n",
    "\n",
    "df = None\n",
    "event_counts = None\n",
    "selections = None\n",
    "\n",
    "with h5py.File( fileName, 'r' ) as f:\n",
    "    #print ( list(f.keys()) )\n",
    "    dset = f['protons']\n",
    "    #print ( dset.shape )\n",
    "    #print ( dset[:,:] )\n",
    "    dset_columns = f['columns']\n",
    "    #print ( dset_columns.shape )\n",
    "    columns = list( dset_columns )\n",
    "    #print ( columns )\n",
    "    columns_str = [ item.decode(\"utf-8\") for item in columns ]\n",
    "    #print ( columns_str )\n",
    "    \n",
    "    dset_counts = f['event_counts']\n",
    "    event_counts = list( dset_counts )\n",
    "    #print ( event_counts )\n",
    "    \n",
    "    dset_selections = f['selections']\n",
    "    selections_ = list( dset_selections )\n",
    "    #print ( selections_ )\n",
    "    selections = [ item.decode(\"utf-8\") for item in selections_ ]\n",
    "    #print ( selections )\n",
    "    \n",
    "    df = pd.DataFrame( dset, columns=columns_str )\n",
    "    \n",
    "    df = df[ ['Run', 'LumiSection', 'EventNum', 'CrossingAngle', \n",
    "              'MultiRP', 'Arm', 'RPId1', 'RPId2', 'TrackX1', 'TrackY1', 'TrackX2', 'TrackY2',\n",
    "              'Xi', 'T', 'ThX', 'ThY'] ].astype( { \"Run\": \"int64\", \"LumiSection\": \"int64\", \"EventNum\": \"int64\", \"MultiRP\": \"int32\", \"Arm\": \"int32\", \"RPId1\": \"int32\", \"RPId2\": \"int32\" } )\n",
    "    "
   ]
  },
  {
   "cell_type": "markdown",
   "metadata": {},
   "source": [
    "Filter the dataframe for events with protons that are reconstructed with the `MultiRP` algorithm, slim the dataframe (select a sub-set of variables) and inspect the dataframe content"
   ]
  },
  {
   "cell_type": "code",
   "execution_count": 19,
   "metadata": {
    "scrolled": true
   },
   "outputs": [
    {
     "data": {
      "text/html": [
       "<div>\n",
       "<style scoped>\n",
       "    .dataframe tbody tr th:only-of-type {\n",
       "        vertical-align: middle;\n",
       "    }\n",
       "\n",
       "    .dataframe tbody tr th {\n",
       "        vertical-align: top;\n",
       "    }\n",
       "\n",
       "    .dataframe thead th {\n",
       "        text-align: right;\n",
       "    }\n",
       "</style>\n",
       "<table border=\"1\" class=\"dataframe\">\n",
       "  <thead>\n",
       "    <tr style=\"text-align: right;\">\n",
       "      <th></th>\n",
       "      <th>Run</th>\n",
       "      <th>LumiSection</th>\n",
       "      <th>EventNum</th>\n",
       "      <th>CrossingAngle</th>\n",
       "      <th>MultiRP</th>\n",
       "      <th>Arm</th>\n",
       "      <th>RPId1</th>\n",
       "      <th>RPId2</th>\n",
       "      <th>TrackX1</th>\n",
       "      <th>TrackY1</th>\n",
       "      <th>TrackX2</th>\n",
       "      <th>TrackY2</th>\n",
       "      <th>Xi</th>\n",
       "      <th>T</th>\n",
       "      <th>ThX</th>\n",
       "      <th>ThY</th>\n",
       "    </tr>\n",
       "  </thead>\n",
       "  <tbody>\n",
       "    <tr>\n",
       "      <th>3</th>\n",
       "      <td>297227</td>\n",
       "      <td>55</td>\n",
       "      <td>38079656</td>\n",
       "      <td>120.0</td>\n",
       "      <td>1</td>\n",
       "      <td>1</td>\n",
       "      <td>103</td>\n",
       "      <td>123</td>\n",
       "      <td>4.577393</td>\n",
       "      <td>1.367676</td>\n",
       "      <td>4.395691</td>\n",
       "      <td>1.493408</td>\n",
       "      <td>0.067306</td>\n",
       "      <td>-0.160121</td>\n",
       "      <td>-0.000061</td>\n",
       "      <td>-0.000014</td>\n",
       "    </tr>\n",
       "    <tr>\n",
       "      <th>6</th>\n",
       "      <td>297227</td>\n",
       "      <td>56</td>\n",
       "      <td>38791640</td>\n",
       "      <td>120.0</td>\n",
       "      <td>1</td>\n",
       "      <td>1</td>\n",
       "      <td>103</td>\n",
       "      <td>123</td>\n",
       "      <td>8.585938</td>\n",
       "      <td>2.644531</td>\n",
       "      <td>8.483521</td>\n",
       "      <td>2.801025</td>\n",
       "      <td>0.102869</td>\n",
       "      <td>-0.039719</td>\n",
       "      <td>-0.000015</td>\n",
       "      <td>0.000024</td>\n",
       "    </tr>\n",
       "    <tr>\n",
       "      <th>11</th>\n",
       "      <td>297227</td>\n",
       "      <td>56</td>\n",
       "      <td>38604580</td>\n",
       "      <td>120.0</td>\n",
       "      <td>1</td>\n",
       "      <td>0</td>\n",
       "      <td>3</td>\n",
       "      <td>23</td>\n",
       "      <td>4.131104</td>\n",
       "      <td>0.797180</td>\n",
       "      <td>4.206665</td>\n",
       "      <td>0.942139</td>\n",
       "      <td>0.036897</td>\n",
       "      <td>-0.315390</td>\n",
       "      <td>0.000015</td>\n",
       "      <td>-0.000087</td>\n",
       "    </tr>\n",
       "    <tr>\n",
       "      <th>12</th>\n",
       "      <td>297227</td>\n",
       "      <td>56</td>\n",
       "      <td>38604580</td>\n",
       "      <td>120.0</td>\n",
       "      <td>1</td>\n",
       "      <td>1</td>\n",
       "      <td>103</td>\n",
       "      <td>123</td>\n",
       "      <td>3.514526</td>\n",
       "      <td>1.507568</td>\n",
       "      <td>3.416473</td>\n",
       "      <td>1.723877</td>\n",
       "      <td>0.047317</td>\n",
       "      <td>-0.277554</td>\n",
       "      <td>-0.000034</td>\n",
       "      <td>-0.000076</td>\n",
       "    </tr>\n",
       "    <tr>\n",
       "      <th>22</th>\n",
       "      <td>297227</td>\n",
       "      <td>59</td>\n",
       "      <td>40601156</td>\n",
       "      <td>120.0</td>\n",
       "      <td>1</td>\n",
       "      <td>0</td>\n",
       "      <td>3</td>\n",
       "      <td>23</td>\n",
       "      <td>3.521118</td>\n",
       "      <td>0.645874</td>\n",
       "      <td>3.669800</td>\n",
       "      <td>0.839172</td>\n",
       "      <td>0.029943</td>\n",
       "      <td>-0.687121</td>\n",
       "      <td>0.000058</td>\n",
       "      <td>-0.000116</td>\n",
       "    </tr>\n",
       "    <tr>\n",
       "      <th>33</th>\n",
       "      <td>297227</td>\n",
       "      <td>70</td>\n",
       "      <td>49904104</td>\n",
       "      <td>120.0</td>\n",
       "      <td>1</td>\n",
       "      <td>0</td>\n",
       "      <td>3</td>\n",
       "      <td>23</td>\n",
       "      <td>9.614258</td>\n",
       "      <td>1.467651</td>\n",
       "      <td>9.968140</td>\n",
       "      <td>1.505981</td>\n",
       "      <td>0.067364</td>\n",
       "      <td>-0.478235</td>\n",
       "      <td>0.000109</td>\n",
       "      <td>-0.000016</td>\n",
       "    </tr>\n",
       "    <tr>\n",
       "      <th>36</th>\n",
       "      <td>297227</td>\n",
       "      <td>70</td>\n",
       "      <td>49482508</td>\n",
       "      <td>120.0</td>\n",
       "      <td>1</td>\n",
       "      <td>1</td>\n",
       "      <td>103</td>\n",
       "      <td>123</td>\n",
       "      <td>8.175293</td>\n",
       "      <td>1.603638</td>\n",
       "      <td>8.151611</td>\n",
       "      <td>1.696777</td>\n",
       "      <td>0.091017</td>\n",
       "      <td>-0.046286</td>\n",
       "      <td>0.000012</td>\n",
       "      <td>0.000029</td>\n",
       "    </tr>\n",
       "    <tr>\n",
       "      <th>39</th>\n",
       "      <td>297227</td>\n",
       "      <td>71</td>\n",
       "      <td>50687028</td>\n",
       "      <td>120.0</td>\n",
       "      <td>1</td>\n",
       "      <td>0</td>\n",
       "      <td>3</td>\n",
       "      <td>23</td>\n",
       "      <td>5.214844</td>\n",
       "      <td>-0.371826</td>\n",
       "      <td>5.485840</td>\n",
       "      <td>-0.559387</td>\n",
       "      <td>0.039614</td>\n",
       "      <td>-0.817277</td>\n",
       "      <td>0.000107</td>\n",
       "      <td>0.000093</td>\n",
       "    </tr>\n",
       "    <tr>\n",
       "      <th>43</th>\n",
       "      <td>297227</td>\n",
       "      <td>73</td>\n",
       "      <td>51787112</td>\n",
       "      <td>120.0</td>\n",
       "      <td>1</td>\n",
       "      <td>1</td>\n",
       "      <td>103</td>\n",
       "      <td>123</td>\n",
       "      <td>4.165283</td>\n",
       "      <td>2.669922</td>\n",
       "      <td>3.366089</td>\n",
       "      <td>2.755859</td>\n",
       "      <td>0.157372</td>\n",
       "      <td>-2.175805</td>\n",
       "      <td>-0.000208</td>\n",
       "      <td>0.000130</td>\n",
       "    </tr>\n",
       "    <tr>\n",
       "      <th>48</th>\n",
       "      <td>297227</td>\n",
       "      <td>73</td>\n",
       "      <td>52238048</td>\n",
       "      <td>120.0</td>\n",
       "      <td>1</td>\n",
       "      <td>1</td>\n",
       "      <td>103</td>\n",
       "      <td>123</td>\n",
       "      <td>5.372803</td>\n",
       "      <td>0.135132</td>\n",
       "      <td>5.530518</td>\n",
       "      <td>0.127640</td>\n",
       "      <td>0.052213</td>\n",
       "      <td>-0.338402</td>\n",
       "      <td>0.000086</td>\n",
       "      <td>0.000031</td>\n",
       "    </tr>\n",
       "    <tr>\n",
       "      <th>51</th>\n",
       "      <td>297227</td>\n",
       "      <td>74</td>\n",
       "      <td>52411720</td>\n",
       "      <td>120.0</td>\n",
       "      <td>1</td>\n",
       "      <td>1</td>\n",
       "      <td>103</td>\n",
       "      <td>123</td>\n",
       "      <td>4.895752</td>\n",
       "      <td>-0.607605</td>\n",
       "      <td>5.118286</td>\n",
       "      <td>-0.795349</td>\n",
       "      <td>0.045295</td>\n",
       "      <td>-1.155988</td>\n",
       "      <td>0.000118</td>\n",
       "      <td>0.000121</td>\n",
       "    </tr>\n",
       "    <tr>\n",
       "      <th>54</th>\n",
       "      <td>297227</td>\n",
       "      <td>74</td>\n",
       "      <td>52460784</td>\n",
       "      <td>120.0</td>\n",
       "      <td>1</td>\n",
       "      <td>1</td>\n",
       "      <td>103</td>\n",
       "      <td>123</td>\n",
       "      <td>3.893433</td>\n",
       "      <td>0.505127</td>\n",
       "      <td>4.032166</td>\n",
       "      <td>0.557068</td>\n",
       "      <td>0.039867</td>\n",
       "      <td>-0.254717</td>\n",
       "      <td>0.000079</td>\n",
       "      <td>-0.000002</td>\n",
       "    </tr>\n",
       "    <tr>\n",
       "      <th>57</th>\n",
       "      <td>297227</td>\n",
       "      <td>75</td>\n",
       "      <td>53687296</td>\n",
       "      <td>120.0</td>\n",
       "      <td>1</td>\n",
       "      <td>1</td>\n",
       "      <td>103</td>\n",
       "      <td>123</td>\n",
       "      <td>8.751953</td>\n",
       "      <td>-1.412354</td>\n",
       "      <td>8.930176</td>\n",
       "      <td>-1.569824</td>\n",
       "      <td>0.079423</td>\n",
       "      <td>-0.752605</td>\n",
       "      <td>0.000091</td>\n",
       "      <td>0.000104</td>\n",
       "    </tr>\n",
       "    <tr>\n",
       "      <th>61</th>\n",
       "      <td>297227</td>\n",
       "      <td>75</td>\n",
       "      <td>53449356</td>\n",
       "      <td>120.0</td>\n",
       "      <td>1</td>\n",
       "      <td>0</td>\n",
       "      <td>3</td>\n",
       "      <td>23</td>\n",
       "      <td>12.326172</td>\n",
       "      <td>-1.268066</td>\n",
       "      <td>12.443970</td>\n",
       "      <td>-1.466431</td>\n",
       "      <td>0.104492</td>\n",
       "      <td>-0.174950</td>\n",
       "      <td>-0.000013</td>\n",
       "      <td>0.000065</td>\n",
       "    </tr>\n",
       "    <tr>\n",
       "      <th>64</th>\n",
       "      <td>297227</td>\n",
       "      <td>75</td>\n",
       "      <td>53886576</td>\n",
       "      <td>120.0</td>\n",
       "      <td>1</td>\n",
       "      <td>0</td>\n",
       "      <td>3</td>\n",
       "      <td>23</td>\n",
       "      <td>6.321533</td>\n",
       "      <td>1.730103</td>\n",
       "      <td>6.489929</td>\n",
       "      <td>1.871948</td>\n",
       "      <td>0.051632</td>\n",
       "      <td>-0.278659</td>\n",
       "      <td>0.000046</td>\n",
       "      <td>-0.000069</td>\n",
       "    </tr>\n",
       "    <tr>\n",
       "      <th>67</th>\n",
       "      <td>297227</td>\n",
       "      <td>76</td>\n",
       "      <td>54400560</td>\n",
       "      <td>120.0</td>\n",
       "      <td>1</td>\n",
       "      <td>0</td>\n",
       "      <td>3</td>\n",
       "      <td>23</td>\n",
       "      <td>8.904297</td>\n",
       "      <td>-0.764648</td>\n",
       "      <td>8.913330</td>\n",
       "      <td>-0.961060</td>\n",
       "      <td>0.083855</td>\n",
       "      <td>-0.333506</td>\n",
       "      <td>-0.000041</td>\n",
       "      <td>0.000082</td>\n",
       "    </tr>\n",
       "    <tr>\n",
       "      <th>70</th>\n",
       "      <td>297227</td>\n",
       "      <td>76</td>\n",
       "      <td>54126336</td>\n",
       "      <td>120.0</td>\n",
       "      <td>1</td>\n",
       "      <td>1</td>\n",
       "      <td>103</td>\n",
       "      <td>123</td>\n",
       "      <td>3.238647</td>\n",
       "      <td>1.550049</td>\n",
       "      <td>2.990662</td>\n",
       "      <td>1.700806</td>\n",
       "      <td>0.055042</td>\n",
       "      <td>-0.425402</td>\n",
       "      <td>-0.000099</td>\n",
       "      <td>-0.000029</td>\n",
       "    </tr>\n",
       "    <tr>\n",
       "      <th>73</th>\n",
       "      <td>297227</td>\n",
       "      <td>78</td>\n",
       "      <td>56185408</td>\n",
       "      <td>120.0</td>\n",
       "      <td>1</td>\n",
       "      <td>1</td>\n",
       "      <td>103</td>\n",
       "      <td>123</td>\n",
       "      <td>5.210449</td>\n",
       "      <td>-1.396362</td>\n",
       "      <td>5.256653</td>\n",
       "      <td>-1.599121</td>\n",
       "      <td>0.056894</td>\n",
       "      <td>-0.591158</td>\n",
       "      <td>0.000035</td>\n",
       "      <td>0.000116</td>\n",
       "    </tr>\n",
       "    <tr>\n",
       "      <th>81</th>\n",
       "      <td>297227</td>\n",
       "      <td>81</td>\n",
       "      <td>58284068</td>\n",
       "      <td>120.0</td>\n",
       "      <td>1</td>\n",
       "      <td>1</td>\n",
       "      <td>103</td>\n",
       "      <td>123</td>\n",
       "      <td>11.446289</td>\n",
       "      <td>3.683838</td>\n",
       "      <td>11.773193</td>\n",
       "      <td>3.968506</td>\n",
       "      <td>0.089371</td>\n",
       "      <td>-0.922007</td>\n",
       "      <td>0.000148</td>\n",
       "      <td>-0.000045</td>\n",
       "    </tr>\n",
       "    <tr>\n",
       "      <th>85</th>\n",
       "      <td>297227</td>\n",
       "      <td>85</td>\n",
       "      <td>61573672</td>\n",
       "      <td>120.0</td>\n",
       "      <td>1</td>\n",
       "      <td>0</td>\n",
       "      <td>3</td>\n",
       "      <td>23</td>\n",
       "      <td>7.032471</td>\n",
       "      <td>0.151062</td>\n",
       "      <td>7.186768</td>\n",
       "      <td>0.040638</td>\n",
       "      <td>0.058042</td>\n",
       "      <td>-0.161547</td>\n",
       "      <td>0.000034</td>\n",
       "      <td>0.000053</td>\n",
       "    </tr>\n",
       "  </tbody>\n",
       "</table>\n",
       "</div>"
      ],
      "text/plain": [
       "       Run  LumiSection  EventNum  CrossingAngle  MultiRP  Arm  RPId1  RPId2  \\\n",
       "3   297227           55  38079656          120.0        1    1    103    123   \n",
       "6   297227           56  38791640          120.0        1    1    103    123   \n",
       "11  297227           56  38604580          120.0        1    0      3     23   \n",
       "12  297227           56  38604580          120.0        1    1    103    123   \n",
       "22  297227           59  40601156          120.0        1    0      3     23   \n",
       "33  297227           70  49904104          120.0        1    0      3     23   \n",
       "36  297227           70  49482508          120.0        1    1    103    123   \n",
       "39  297227           71  50687028          120.0        1    0      3     23   \n",
       "43  297227           73  51787112          120.0        1    1    103    123   \n",
       "48  297227           73  52238048          120.0        1    1    103    123   \n",
       "51  297227           74  52411720          120.0        1    1    103    123   \n",
       "54  297227           74  52460784          120.0        1    1    103    123   \n",
       "57  297227           75  53687296          120.0        1    1    103    123   \n",
       "61  297227           75  53449356          120.0        1    0      3     23   \n",
       "64  297227           75  53886576          120.0        1    0      3     23   \n",
       "67  297227           76  54400560          120.0        1    0      3     23   \n",
       "70  297227           76  54126336          120.0        1    1    103    123   \n",
       "73  297227           78  56185408          120.0        1    1    103    123   \n",
       "81  297227           81  58284068          120.0        1    1    103    123   \n",
       "85  297227           85  61573672          120.0        1    0      3     23   \n",
       "\n",
       "      TrackX1   TrackY1    TrackX2   TrackY2        Xi         T       ThX  \\\n",
       "3    4.577393  1.367676   4.395691  1.493408  0.067306 -0.160121 -0.000061   \n",
       "6    8.585938  2.644531   8.483521  2.801025  0.102869 -0.039719 -0.000015   \n",
       "11   4.131104  0.797180   4.206665  0.942139  0.036897 -0.315390  0.000015   \n",
       "12   3.514526  1.507568   3.416473  1.723877  0.047317 -0.277554 -0.000034   \n",
       "22   3.521118  0.645874   3.669800  0.839172  0.029943 -0.687121  0.000058   \n",
       "33   9.614258  1.467651   9.968140  1.505981  0.067364 -0.478235  0.000109   \n",
       "36   8.175293  1.603638   8.151611  1.696777  0.091017 -0.046286  0.000012   \n",
       "39   5.214844 -0.371826   5.485840 -0.559387  0.039614 -0.817277  0.000107   \n",
       "43   4.165283  2.669922   3.366089  2.755859  0.157372 -2.175805 -0.000208   \n",
       "48   5.372803  0.135132   5.530518  0.127640  0.052213 -0.338402  0.000086   \n",
       "51   4.895752 -0.607605   5.118286 -0.795349  0.045295 -1.155988  0.000118   \n",
       "54   3.893433  0.505127   4.032166  0.557068  0.039867 -0.254717  0.000079   \n",
       "57   8.751953 -1.412354   8.930176 -1.569824  0.079423 -0.752605  0.000091   \n",
       "61  12.326172 -1.268066  12.443970 -1.466431  0.104492 -0.174950 -0.000013   \n",
       "64   6.321533  1.730103   6.489929  1.871948  0.051632 -0.278659  0.000046   \n",
       "67   8.904297 -0.764648   8.913330 -0.961060  0.083855 -0.333506 -0.000041   \n",
       "70   3.238647  1.550049   2.990662  1.700806  0.055042 -0.425402 -0.000099   \n",
       "73   5.210449 -1.396362   5.256653 -1.599121  0.056894 -0.591158  0.000035   \n",
       "81  11.446289  3.683838  11.773193  3.968506  0.089371 -0.922007  0.000148   \n",
       "85   7.032471  0.151062   7.186768  0.040638  0.058042 -0.161547  0.000034   \n",
       "\n",
       "         ThY  \n",
       "3  -0.000014  \n",
       "6   0.000024  \n",
       "11 -0.000087  \n",
       "12 -0.000076  \n",
       "22 -0.000116  \n",
       "33 -0.000016  \n",
       "36  0.000029  \n",
       "39  0.000093  \n",
       "43  0.000130  \n",
       "48  0.000031  \n",
       "51  0.000121  \n",
       "54 -0.000002  \n",
       "57  0.000104  \n",
       "61  0.000065  \n",
       "64 -0.000069  \n",
       "67  0.000082  \n",
       "70 -0.000029  \n",
       "73  0.000116  \n",
       "81 -0.000045  \n",
       "85  0.000053  "
      ]
     },
     "execution_count": 19,
     "metadata": {},
     "output_type": "execute_result"
    }
   ],
   "source": [
    "df = df[ df[\"MultiRP\"] == 1 ]\n",
    "df = df[ ['Run', 'LumiSection', 'EventNum', 'CrossingAngle', 'MultiRP', 'Arm', 'RPId1', 'RPId2', 'TrackX1', 'TrackY1', 'TrackX2', 'TrackY2', 'Xi', 'T', 'ThX', 'ThY'] ]\n",
    "df[:20]"
   ]
  },
  {
   "cell_type": "markdown",
   "metadata": {},
   "source": [
    "Draw (x,y) proton hits from the data:"
   ]
  },
  {
   "cell_type": "code",
   "execution_count": 20,
   "metadata": {},
   "outputs": [
    {
     "data": {
      "text/plain": [
       "Text(0,0.5,'Y (mm)')"
      ]
     },
     "execution_count": 20,
     "metadata": {},
     "output_type": "execute_result"
    },
    {
     "data": {
      "image/png": "[encoded data removed]",
      "text/plain": [
       "<Figure size 1440x720 with 2 Axes>"
      ]
     },
     "metadata": {
      "needs_background": "light"
     },
     "output_type": "display_data"
    }
   ],
   "source": [
    "msk_protons_1 = ( df[\"Arm\"] == 0 )\n",
    "msk_protons_2 = ( df[\"Arm\"] == 1 )\n",
    "    \n",
    "fig, axes = plt.subplots( 1, 2, figsize=(20,10) )\n",
    "axes[0].hist2d( df[ \"TrackX2\" ][ msk_protons_1 ], df[ \"TrackY2\" ][ msk_protons_1 ], bins=(100,100), range=( (0.,25.), (-10.,10.) ), norm=LogNorm(), cmap='viridis' )\n",
    "axes[0].set_xlabel( \"X (mm)\", fontsize=20 )\n",
    "axes[0].set_ylabel( \"Y (mm)\", fontsize=20 )\n",
    "axes[1].hist2d( df[ \"TrackX2\" ][ msk_protons_2 ], df[ \"TrackY2\" ][ msk_protons_2 ], bins=(100,100), range=( (0.,25.), (-10.,10.) ), norm=LogNorm(), cmap='viridis' )\n",
    "axes[1].set_xlabel( \"X (mm)\", fontsize=20 )\n",
    "axes[1].set_ylabel( \"Y (mm)\", fontsize=20 )"
   ]
  },
  {
   "cell_type": "code",
   "execution_count": null,
   "metadata": {},
   "outputs": [],
   "source": []
  }
 ],
 "metadata": {
  "kernelspec": {
   "display_name": "das-pps",
   "language": "python",
   "name": "das-pps"
  },
  "language_info": {
   "codemirror_mode": {
    "name": "ipython",
    "version": 2
   },
   "file_extension": ".py",
   "mimetype": "text/x-python",
   "name": "python",
   "nbconvert_exporter": "python",
   "pygments_lexer": "ipython2",
   "version": "2.7.15+"
  }
 },
 "nbformat": 4,
 "nbformat_minor": 4
}
